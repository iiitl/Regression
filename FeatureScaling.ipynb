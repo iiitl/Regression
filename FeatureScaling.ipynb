{
 "cells": [
  {
   "cell_type": "code",
   "execution_count": 1,
   "metadata": {},
   "outputs": [
    {
     "name": "stderr",
     "output_type": "stream",
     "text": [
      "/var/folders/3c/pb1mvv954893vlh3_4cdhtww0000gn/T/ipykernel_11401/1112673610.py:2: DeprecationWarning: \n",
      "Pyarrow will become a required dependency of pandas in the next major release of pandas (pandas 3.0),\n",
      "(to allow more performant data types, such as the Arrow string type, and better interoperability with other libraries)\n",
      "but was not found to be installed on your system.\n",
      "If this would cause problems for you,\n",
      "please provide us feedback at https://github.com/pandas-dev/pandas/issues/54466\n",
      "        \n",
      "  import pandas as pd\n"
     ]
    }
   ],
   "source": [
    "import numpy as np\n",
    "import pandas as pd\n",
    "import seaborn as sns\n",
    "from sklearn.model_selection import train_test_split\n",
    "from sklearn import svm\n",
    "from sklearn.metrics import accuracy_score\n",
    "\n",
    "\n",
    "\n"
   ]
  },
  {
   "cell_type": "code",
   "execution_count": null,
   "metadata": {},
   "outputs": [],
   "source": []
  },
  {
   "cell_type": "code",
   "execution_count": 2,
   "metadata": {},
   "outputs": [],
   "source": [
    "df=pd.read_csv('wines_SPA.csv')"
   ]
  },
  {
   "cell_type": "code",
   "execution_count": 3,
   "metadata": {},
   "outputs": [
    {
     "data": {
      "text/html": [
       "<div>\n",
       "<style scoped>\n",
       "    .dataframe tbody tr th:only-of-type {\n",
       "        vertical-align: middle;\n",
       "    }\n",
       "\n",
       "    .dataframe tbody tr th {\n",
       "        vertical-align: top;\n",
       "    }\n",
       "\n",
       "    .dataframe thead th {\n",
       "        text-align: right;\n",
       "    }\n",
       "</style>\n",
       "<table border=\"1\" class=\"dataframe\">\n",
       "  <thead>\n",
       "    <tr style=\"text-align: right;\">\n",
       "      <th></th>\n",
       "      <th>winery</th>\n",
       "      <th>wine</th>\n",
       "      <th>year</th>\n",
       "      <th>rating</th>\n",
       "      <th>num_reviews</th>\n",
       "      <th>country</th>\n",
       "      <th>region</th>\n",
       "      <th>price</th>\n",
       "      <th>type</th>\n",
       "      <th>body</th>\n",
       "      <th>acidity</th>\n",
       "    </tr>\n",
       "  </thead>\n",
       "  <tbody>\n",
       "    <tr>\n",
       "      <th>0</th>\n",
       "      <td>Teso La Monja</td>\n",
       "      <td>Tinto</td>\n",
       "      <td>2013</td>\n",
       "      <td>4.9</td>\n",
       "      <td>58</td>\n",
       "      <td>Espana</td>\n",
       "      <td>Toro</td>\n",
       "      <td>995.00</td>\n",
       "      <td>Toro Red</td>\n",
       "      <td>5.0</td>\n",
       "      <td>3.0</td>\n",
       "    </tr>\n",
       "    <tr>\n",
       "      <th>1</th>\n",
       "      <td>Artadi</td>\n",
       "      <td>Vina El Pison</td>\n",
       "      <td>2018</td>\n",
       "      <td>4.9</td>\n",
       "      <td>31</td>\n",
       "      <td>Espana</td>\n",
       "      <td>Vino de Espana</td>\n",
       "      <td>313.50</td>\n",
       "      <td>Tempranillo</td>\n",
       "      <td>4.0</td>\n",
       "      <td>2.0</td>\n",
       "    </tr>\n",
       "    <tr>\n",
       "      <th>2</th>\n",
       "      <td>Vega Sicilia</td>\n",
       "      <td>Unico</td>\n",
       "      <td>2009</td>\n",
       "      <td>4.8</td>\n",
       "      <td>1793</td>\n",
       "      <td>Espana</td>\n",
       "      <td>Ribera del Duero</td>\n",
       "      <td>324.95</td>\n",
       "      <td>Ribera Del Duero Red</td>\n",
       "      <td>5.0</td>\n",
       "      <td>3.0</td>\n",
       "    </tr>\n",
       "    <tr>\n",
       "      <th>3</th>\n",
       "      <td>Vega Sicilia</td>\n",
       "      <td>Unico</td>\n",
       "      <td>1999</td>\n",
       "      <td>4.8</td>\n",
       "      <td>1705</td>\n",
       "      <td>Espana</td>\n",
       "      <td>Ribera del Duero</td>\n",
       "      <td>692.96</td>\n",
       "      <td>Ribera Del Duero Red</td>\n",
       "      <td>5.0</td>\n",
       "      <td>3.0</td>\n",
       "    </tr>\n",
       "    <tr>\n",
       "      <th>4</th>\n",
       "      <td>Vega Sicilia</td>\n",
       "      <td>Unico</td>\n",
       "      <td>1996</td>\n",
       "      <td>4.8</td>\n",
       "      <td>1309</td>\n",
       "      <td>Espana</td>\n",
       "      <td>Ribera del Duero</td>\n",
       "      <td>778.06</td>\n",
       "      <td>Ribera Del Duero Red</td>\n",
       "      <td>5.0</td>\n",
       "      <td>3.0</td>\n",
       "    </tr>\n",
       "  </tbody>\n",
       "</table>\n",
       "</div>"
      ],
      "text/plain": [
       "          winery           wine  year  rating  num_reviews country  \\\n",
       "0  Teso La Monja          Tinto  2013     4.9           58  Espana   \n",
       "1         Artadi  Vina El Pison  2018     4.9           31  Espana   \n",
       "2   Vega Sicilia          Unico  2009     4.8         1793  Espana   \n",
       "3   Vega Sicilia          Unico  1999     4.8         1705  Espana   \n",
       "4   Vega Sicilia          Unico  1996     4.8         1309  Espana   \n",
       "\n",
       "             region   price                  type  body  acidity  \n",
       "0              Toro  995.00              Toro Red   5.0      3.0  \n",
       "1    Vino de Espana  313.50           Tempranillo   4.0      2.0  \n",
       "2  Ribera del Duero  324.95  Ribera Del Duero Red   5.0      3.0  \n",
       "3  Ribera del Duero  692.96  Ribera Del Duero Red   5.0      3.0  \n",
       "4  Ribera del Duero  778.06  Ribera Del Duero Red   5.0      3.0  "
      ]
     },
     "execution_count": 3,
     "metadata": {},
     "output_type": "execute_result"
    }
   ],
   "source": [
    "df.head()"
   ]
  },
  {
   "cell_type": "code",
   "execution_count": 4,
   "metadata": {},
   "outputs": [
    {
     "data": {
      "text/html": [
       "<div>\n",
       "<style scoped>\n",
       "    .dataframe tbody tr th:only-of-type {\n",
       "        vertical-align: middle;\n",
       "    }\n",
       "\n",
       "    .dataframe tbody tr th {\n",
       "        vertical-align: top;\n",
       "    }\n",
       "\n",
       "    .dataframe thead th {\n",
       "        text-align: right;\n",
       "    }\n",
       "</style>\n",
       "<table border=\"1\" class=\"dataframe\">\n",
       "  <thead>\n",
       "    <tr style=\"text-align: right;\">\n",
       "      <th></th>\n",
       "      <th>winery</th>\n",
       "      <th>wine</th>\n",
       "      <th>year</th>\n",
       "      <th>rating</th>\n",
       "      <th>num_reviews</th>\n",
       "      <th>country</th>\n",
       "      <th>region</th>\n",
       "      <th>price</th>\n",
       "      <th>type</th>\n",
       "      <th>body</th>\n",
       "      <th>acidity</th>\n",
       "    </tr>\n",
       "  </thead>\n",
       "  <tbody>\n",
       "    <tr>\n",
       "      <th>662</th>\n",
       "      <td>Bodegas Mauro</td>\n",
       "      <td>Red</td>\n",
       "      <td>2019</td>\n",
       "      <td>4.4</td>\n",
       "      <td>1701</td>\n",
       "      <td>Espana</td>\n",
       "      <td>Castilla y Leon</td>\n",
       "      <td>29.45</td>\n",
       "      <td>Red</td>\n",
       "      <td>4.0</td>\n",
       "      <td>3.0</td>\n",
       "    </tr>\n",
       "    <tr>\n",
       "      <th>3324</th>\n",
       "      <td>Vinedos de Paganos</td>\n",
       "      <td>El Puntido</td>\n",
       "      <td>2005</td>\n",
       "      <td>4.2</td>\n",
       "      <td>384</td>\n",
       "      <td>Espana</td>\n",
       "      <td>Rioja</td>\n",
       "      <td>73.00</td>\n",
       "      <td>Rioja Red</td>\n",
       "      <td>4.0</td>\n",
       "      <td>3.0</td>\n",
       "    </tr>\n",
       "    <tr>\n",
       "      <th>6267</th>\n",
       "      <td>Matsu</td>\n",
       "      <td>El Viejo</td>\n",
       "      <td>2019</td>\n",
       "      <td>4.2</td>\n",
       "      <td>400</td>\n",
       "      <td>Espana</td>\n",
       "      <td>Toro</td>\n",
       "      <td>27.89</td>\n",
       "      <td>Toro Red</td>\n",
       "      <td>5.0</td>\n",
       "      <td>3.0</td>\n",
       "    </tr>\n",
       "    <tr>\n",
       "      <th>5077</th>\n",
       "      <td>Clos Pons</td>\n",
       "      <td>Roc Nu</td>\n",
       "      <td>2011</td>\n",
       "      <td>4.2</td>\n",
       "      <td>420</td>\n",
       "      <td>Espana</td>\n",
       "      <td>Costers del Segre</td>\n",
       "      <td>23.95</td>\n",
       "      <td>Red</td>\n",
       "      <td>4.0</td>\n",
       "      <td>3.0</td>\n",
       "    </tr>\n",
       "    <tr>\n",
       "      <th>2070</th>\n",
       "      <td>Conreria d'Scala Dei</td>\n",
       "      <td>Les Brugueres</td>\n",
       "      <td>2018</td>\n",
       "      <td>4.2</td>\n",
       "      <td>390</td>\n",
       "      <td>Espana</td>\n",
       "      <td>Priorato</td>\n",
       "      <td>16.76</td>\n",
       "      <td>Priorat Red</td>\n",
       "      <td>4.0</td>\n",
       "      <td>3.0</td>\n",
       "    </tr>\n",
       "  </tbody>\n",
       "</table>\n",
       "</div>"
      ],
      "text/plain": [
       "                    winery           wine  year  rating  num_reviews country  \\\n",
       "662          Bodegas Mauro            Red  2019     4.4         1701  Espana   \n",
       "3324    Vinedos de Paganos     El Puntido  2005     4.2          384  Espana   \n",
       "6267                 Matsu       El Viejo  2019     4.2          400  Espana   \n",
       "5077             Clos Pons         Roc Nu  2011     4.2          420  Espana   \n",
       "2070  Conreria d'Scala Dei  Les Brugueres  2018     4.2          390  Espana   \n",
       "\n",
       "                 region  price         type  body  acidity  \n",
       "662     Castilla y Leon  29.45          Red   4.0      3.0  \n",
       "3324              Rioja  73.00    Rioja Red   4.0      3.0  \n",
       "6267               Toro  27.89     Toro Red   5.0      3.0  \n",
       "5077  Costers del Segre  23.95          Red   4.0      3.0  \n",
       "2070           Priorato  16.76  Priorat Red   4.0      3.0  "
      ]
     },
     "execution_count": 4,
     "metadata": {},
     "output_type": "execute_result"
    }
   ],
   "source": [
    "df.sample(5)"
   ]
  },
  {
   "cell_type": "code",
   "execution_count": 5,
   "metadata": {},
   "outputs": [
    {
     "data": {
      "text/plain": [
       "winery            0\n",
       "wine              0\n",
       "year              2\n",
       "rating            0\n",
       "num_reviews       0\n",
       "country           0\n",
       "region            0\n",
       "price             0\n",
       "type            545\n",
       "body           1169\n",
       "acidity        1169\n",
       "dtype: int64"
      ]
     },
     "execution_count": 5,
     "metadata": {},
     "output_type": "execute_result"
    }
   ],
   "source": [
    "df.isnull().sum()"
   ]
  },
  {
   "cell_type": "code",
   "execution_count": 6,
   "metadata": {},
   "outputs": [],
   "source": [
    "df['body']=df.body.fillna(df.body.mean())"
   ]
  },
  {
   "cell_type": "code",
   "execution_count": 7,
   "metadata": {},
   "outputs": [
    {
     "data": {
      "text/plain": [
       "winery         0\n",
       "wine           0\n",
       "year           0\n",
       "rating         0\n",
       "num_reviews    0\n",
       "country        0\n",
       "region         0\n",
       "price          0\n",
       "type           0\n",
       "body           0\n",
       "acidity        0\n",
       "dtype: int64"
      ]
     },
     "execution_count": 7,
     "metadata": {},
     "output_type": "execute_result"
    }
   ],
   "source": [
    "df['acidity']=df.acidity.fillna(df.acidity.mean())\n",
    "df['type'] = df['type'].fillna(df['type'].mode()[0])\n",
    "df['year'] = df['year'].fillna(df['type'].mode()[0])\n",
    "df.isnull().sum()"
   ]
  },
  {
   "cell_type": "code",
   "execution_count": 8,
   "metadata": {},
   "outputs": [
    {
     "data": {
      "text/plain": [
       "winery         int64\n",
       "wine           int64\n",
       "year           int64\n",
       "rating         int64\n",
       "num_reviews    int64\n",
       "country        int64\n",
       "region         int64\n",
       "price          int64\n",
       "type           int64\n",
       "body           int64\n",
       "acidity        int64\n",
       "dtype: object"
      ]
     },
     "execution_count": 8,
     "metadata": {},
     "output_type": "execute_result"
    }
   ],
   "source": [
    "df.value_counts('wine')\n",
    "df.value_counts('winery')\n",
    "df.value_counts('num_reviews')\n",
    "df.value_counts('acidity')\n",
    "df.dtypes\n",
    "from sklearn.preprocessing import LabelEncoder\n",
    "le = LabelEncoder()\n",
    "df['country']= le.fit_transform(df['country'])\n",
    "df['region']= le.fit_transform(df['region'])\n",
    "df['winery']= le.fit_transform(df['wine'])\n",
    "df['wine']= le.fit_transform(df['wine'])\n",
    "df['type']= le.fit_transform(df['type'])\n",
    "df['year']= le.fit_transform(df['year'])\n",
    "df['body'] = df['body'].astype('int64')\n",
    "df['acidity'] = df['acidity'].astype('int64')\n",
    "df['rating'] = df['rating'].astype('int64')\n",
    "df['price'] = df['price'].astype('int64')\n",
    "df.dtypes"
   ]
  },
  {
   "cell_type": "code",
   "execution_count": null,
   "metadata": {},
   "outputs": [],
   "source": []
  },
  {
   "cell_type": "code",
   "execution_count": 9,
   "metadata": {},
   "outputs": [
    {
     "name": "stdout",
     "output_type": "stream",
     "text": [
      "Normalized Data:\n",
      "        winery      wine      year  rating  num_reviews  country    region  \\\n",
      "0     0.897163  0.897163  0.859155     0.0     0.001012      0.0  0.920000   \n",
      "1     0.968085  0.968085  0.929577     0.0     0.000184      0.0  0.986667   \n",
      "2     0.919622  0.919622  0.802817     0.0     0.054235      0.0  0.760000   \n",
      "3     0.919622  0.919622  0.661972     0.0     0.051535      0.0  0.760000   \n",
      "4     0.919622  0.919622  0.619718     0.0     0.039388      0.0  0.760000   \n",
      "...        ...       ...       ...     ...          ...      ...       ...   \n",
      "7495  0.731678  0.731678  0.901408     0.0     0.011258      0.0  0.786667   \n",
      "7496  0.520095  0.520095  0.929577     0.0     0.011197      0.0  0.706667   \n",
      "7497  0.356974  0.356974  0.915493     0.0     0.011197      0.0  0.320000   \n",
      "7498  0.404255  0.404255  0.830986     0.0     0.011166      0.0  0.760000   \n",
      "7499  0.704492  0.704492  0.901408     0.0     0.011135      0.0  0.760000   \n",
      "\n",
      "         price  type      body  acidity  \n",
      "0     0.318138  0.95  1.000000      1.0  \n",
      "1     0.099197  0.90  0.666667      0.5  \n",
      "2     0.102729  0.55  1.000000      1.0  \n",
      "3     0.220867  0.55  1.000000      1.0  \n",
      "4     0.248475  0.55  1.000000      1.0  \n",
      "...        ...   ...       ...      ...  \n",
      "7495  0.004815  0.60  0.666667      1.0  \n",
      "7496  0.003852  0.45  0.666667      1.0  \n",
      "7497  0.006421  0.50  0.666667      1.0  \n",
      "7498  0.019262  0.55  1.000000      1.0  \n",
      "7499  0.008668  0.55  1.000000      1.0  \n",
      "\n",
      "[7500 rows x 11 columns]\n"
     ]
    }
   ],
   "source": [
    "import pandas as pd\n",
    "from sklearn.preprocessing import MinMaxScaler, StandardScaler\n",
    "\n",
    "scaler = MinMaxScaler()\n",
    "normalized_data = scaler.fit_transform(df)\n",
    "normalized_df = pd.DataFrame(normalized_data, columns=df.columns)\n",
    "print(\"Normalized Data:\")\n",
    "print(normalized_df)\n",
    "\n",
    "\n"
   ]
  },
  {
   "cell_type": "code",
   "execution_count": 10,
   "metadata": {},
   "outputs": [
    {
     "name": "stdout",
     "output_type": "stream",
     "text": [
      "\n",
      "Scaled Data:\n",
      "        winery      wine      year  rating  num_reviews  country    region  \\\n",
      "0     1.257374  1.257374 -0.138855     0.0    -0.543754      0.0  1.086370   \n",
      "1     1.516556  1.516556  0.638782     0.0    -0.581101      0.0  1.375263   \n",
      "2     1.339448  1.339448 -0.760964     0.0     1.856123      0.0  0.393026   \n",
      "3     1.339448  1.339448 -2.316236     0.0     1.734400      0.0  0.393026   \n",
      "4     1.339448  1.339448 -2.782818     0.0     1.186647      0.0  0.393026   \n",
      "...        ...       ...       ...     ...          ...      ...       ...   \n",
      "7495  0.652618  0.652618  0.327727     0.0    -0.081761      0.0  0.508583   \n",
      "7496 -0.120607 -0.120607  0.638782     0.0    -0.084527      0.0  0.161911   \n",
      "7497 -0.716724 -0.716724  0.483254     0.0    -0.084527      0.0 -1.513670   \n",
      "7498 -0.543936 -0.543936 -0.449909     0.0    -0.085910      0.0  0.393026   \n",
      "7499  0.553265  0.553265  0.327727     0.0    -0.087293      0.0  0.393026   \n",
      "\n",
      "         price      type      body   acidity  \n",
      "0     6.219881  2.209869  1.607189  0.487489  \n",
      "1     1.685497  1.926340 -0.248116 -1.938635  \n",
      "2     1.758633 -0.058369  1.607189  0.487489  \n",
      "3     4.205338 -0.058369  1.607189  0.487489  \n",
      "4     4.777123 -0.058369  1.607189  0.487489  \n",
      "...        ...       ...       ...       ...  \n",
      "7495 -0.269208  0.225161 -0.248116  0.487489  \n",
      "7496 -0.289154 -0.625429 -0.248116  0.487489  \n",
      "7497 -0.235964 -0.341899 -0.248116  0.487489  \n",
      "7498  0.029982 -0.058369  1.607189  0.487489  \n",
      "7499 -0.189424 -0.058369  1.607189  0.487489  \n",
      "\n",
      "[7500 rows x 11 columns]\n"
     ]
    }
   ],
   "source": [
    "scaler = StandardScaler()\n",
    "scaled_data = scaler.fit_transform(df)\n",
    "scaled_df = pd.DataFrame(scaled_data, columns=df.columns)\n",
    "print(\"\\nScaled Data:\")\n",
    "print(scaled_df)"
   ]
  }
 ],
 "metadata": {
  "kernelspec": {
   "display_name": "Python 3",
   "language": "python",
   "name": "python3"
  },
  "language_info": {
   "codemirror_mode": {
    "name": "ipython",
    "version": 3
   },
   "file_extension": ".py",
   "mimetype": "text/x-python",
   "name": "python",
   "nbconvert_exporter": "python",
   "pygments_lexer": "ipython3",
   "version": "3.9.6"
  }
 },
 "nbformat": 4,
 "nbformat_minor": 2
}
